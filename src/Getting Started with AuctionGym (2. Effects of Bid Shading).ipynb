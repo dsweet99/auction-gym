{
 "cells": [
  {
   "cell_type": "markdown",
   "id": "090120de",
   "metadata": {},
   "source": [
    "# Getting Started with AuctionGym\n",
    "## Effects of Bid Shading in First-Price Auctions"
   ]
  },
  {
   "cell_type": "markdown",
   "id": "f321a488",
   "metadata": {},
   "source": [
    "AuctionGym has several configuration options that detail the type of auction, how bidders behave, and how confounded the contextual information is that bidders observe. To avoid clutter, we define these in configuration files.\n",
    "For the purposes of this introductory notebook, we will ignore some aspects such as repeated runs.\n",
    "\n",
    "We parse an existing file, detailing a first-price auction with oracle bidders.\n",
    "We will look into the effects of bid shading on the auctioneer's revenue, social welfare and surplus.\n",
    "For this, we repeat simulated experiments with the same set of bidders, changing how their bidding strategy."
   ]
  },
  {
   "cell_type": "code",
   "execution_count": null,
   "id": "ca8aeae4",
   "metadata": {},
   "outputs": [],
   "source": [
    "import matplotlib.pyplot as plt\n",
    "import numpy as np\n",
    "from collections import defaultdict\n",
    "from main import parse_config, instantiate_agents, instantiate_auction\n",
    "from tqdm.notebook import tqdm"
   ]
  },
  {
   "cell_type": "code",
   "execution_count": null,
   "id": "af5fa209",
   "metadata": {},
   "outputs": [],
   "source": [
    "# Parse configuration file\n",
    "rng, config, agent_configs, agents2items, agents2item_values,\\\n",
    "num_runs, max_slots, embedding_size, embedding_var,\\\n",
    "obs_embedding_size = parse_config('../config/FP_DM_Oracle.json')"
   ]
  },
  {
   "cell_type": "code",
   "execution_count": null,
   "id": "e105767c",
   "metadata": {},
   "outputs": [],
   "source": [
    "def run_repeated_auctions():\n",
    "    # Placeholders for output\n",
    "    auction_revenue = []\n",
    "    social_welfare = []\n",
    "    social_surplus = []\n",
    "    \n",
    "    # Instantiate Agent and Auction objects\n",
    "    agents = instantiate_agents(rng, agent_configs, agents2item_values, agents2items)\n",
    "\n",
    "    # Instantiate Auction object\n",
    "    auction, num_iter, rounds_per_iter, output_dir =\\\n",
    "        instantiate_auction(rng,\n",
    "                            config,\n",
    "                            agents2items,\n",
    "                            agents2item_values,\n",
    "                            agents,\n",
    "                            max_slots,\n",
    "                            embedding_size,\n",
    "                            embedding_var,\n",
    "                            obs_embedding_size)\n",
    "\n",
    "    # Run repeated auctions\n",
    "    # This logic is encoded in the `simulation_run()` method in main.py\n",
    "    num_iter = 3 # TEST\n",
    "    for i in tqdm(range(num_iter)):\n",
    "\n",
    "        # Simulate impression opportunities\n",
    "        for _ in range(rounds_per_iter):\n",
    "            auction.simulate_opportunity()\n",
    "\n",
    "        # Log 'Gross utility' or welfare\n",
    "        social_welfare.append(sum([agent.gross_utility for agent in auction.agents]))\n",
    "\n",
    "        # Log 'Net utility' or surplus\n",
    "        social_surplus.append(sum([agent.net_utility for agent in auction.agents]))\n",
    "        \n",
    "        # Update agents (does nothing in this example, as we have truthful oracles)\n",
    "        # Clear running metrics\n",
    "        for agent_id, agent in enumerate(auction.agents):\n",
    "            agent.update(iteration=i)\n",
    "            agent.clear_utility()\n",
    "            agent.clear_logs()\n",
    "\n",
    "        # Log revenue\n",
    "        auction_revenue.append(auction.revenue)\n",
    "        auction.clear_revenue()\n",
    "        \n",
    "    # Rescale metrics per auction round\n",
    "    auction_revenue = np.array(auction_revenue) / rounds_per_iter\n",
    "    social_welfare = np.array(social_welfare) / rounds_per_iter\n",
    "    social_surplus = np.array(social_surplus) / rounds_per_iter\n",
    "    \n",
    "    return auction_revenue, social_welfare, social_surplus"
   ]
  },
  {
   "cell_type": "code",
   "execution_count": null,
   "id": "624db1ca",
   "metadata": {},
   "outputs": [],
   "source": [
    "shaded_revenue, shaded_welfare, shaded_surplus = run_repeated_auctions()"
   ]
  },
  {
   "cell_type": "code",
   "execution_count": null,
   "id": "df4d59a7",
   "metadata": {},
   "outputs": [],
   "source": [
    "def set_truthful_bidders(agent_configs):\n",
    "    for agent_config in agent_configs:        \n",
    "        agent_config['bidder'] = {\n",
    "            'type': 'TruthfulBidder',\n",
    "            'kwargs': {}\n",
    "        }\n",
    "set_truthful_bidders(agent_configs)\n",
    "truthful_revenue, truthful_welfare, truthful_surplus = run_repeated_auctions()"
   ]
  },
  {
   "cell_type": "code",
   "execution_count": null,
   "id": "17367a6a",
   "metadata": {},
   "outputs": [],
   "source": [
    "fontsize=16\n",
    "fig, axes = plt.subplots(1, 3, sharey='row', figsize=(15,4))\n",
    "\n",
    "axes[0].plot(truthful_welfare, label=f'Truthful')\n",
    "axes[1].plot(truthful_surplus, label=f'Truthful')\n",
    "axes[2].plot(truthful_revenue, label=f'Truthful')\n",
    "\n",
    "axes[0].plot(shaded_welfare, label=f'Shaded')\n",
    "axes[1].plot(shaded_surplus, label=f'Shaded')\n",
    "axes[2].plot(shaded_revenue, label=f'Shaded')\n",
    "\n",
    "axes[1].set_title('Effects of Bid-Shading in First-Price Auctions with Oracle bidders', fontsize=fontsize+4)\n",
    "\n",
    "for i in range(3):\n",
    "    axes[i].set_xlabel('Iterations', fontsize=fontsize)\n",
    "    axes[i].set_xticks(list(range(0,len(truthful_revenue),2)))\n",
    "    axes[i].grid(True, 'major', 'y', ls='--', lw=.5, c='k', alpha=.3)\n",
    "    \n",
    "axes[0].set_ylabel('Social Welfare', fontsize=fontsize)\n",
    "axes[1].set_ylabel('Social Surplus', fontsize=fontsize)\n",
    "axes[2].set_ylabel('Auction Revenue', fontsize=fontsize)\n",
    "\n",
    "legend = axes[2].legend(loc='upper left',\n",
    "                        bbox_to_anchor=(1.0, 1.0),\n",
    "                        fontsize=fontsize)\n",
    "legend.set_title('Strategy', prop={'size': fontsize})\n",
    "fig.tight_layout()\n",
    "\n",
    "plt.show()"
   ]
  },
  {
   "cell_type": "markdown",
   "id": "faeff496",
   "metadata": {},
   "source": [
    "The leftmost plot shows social welfare (the sum of generated welfare over all participants in the auction).\n",
    "Whether participants shade their bids (or not) does not have affect welfare: indeed, the value that is generated by the ads that are shown remains unchanged.\n",
    "\n",
    "The middle plot shows social surplus.\n",
    "Bidding truthfully in a first-price auction gives an expected surplus of 0.\n",
    "As bidders start to shade their bids, we can see that bidders succesfully generate surplus.\n",
    "\n",
    "The rightmost plot shows revenue for the auctioneer.\n",
    "When bidders bid truthfully, the monetary value for all generated welfare goes to the auctioneer.\n",
    "As bidders start to shade their bids, we can see that revenue diminishes as surplus increases."
   ]
  },
  {
   "cell_type": "code",
   "execution_count": null,
   "id": "165aefed",
   "metadata": {},
   "outputs": [],
   "source": []
  }
 ],
 "metadata": {
  "language_info": {
   "name": "python",
   "pygments_lexer": "ipython3"
  }
 },
 "nbformat": 4,
 "nbformat_minor": 5
}
