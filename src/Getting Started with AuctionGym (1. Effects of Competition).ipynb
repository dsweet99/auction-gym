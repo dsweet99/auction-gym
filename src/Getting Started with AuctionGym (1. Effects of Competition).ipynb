{
 "cells": [
  {
   "cell_type": "markdown",
   "id": "47a55e28",
   "metadata": {},
   "source": [
    "# Getting Started with AuctionGym\n",
    "## Effects of Competition in Second-Price Auctions"
   ]
  },
  {
   "cell_type": "markdown",
   "id": "c93512ce",
   "metadata": {},
   "source": [
    "AuctionGym has several configuration options that detail the type of auction, how bidders behave, and how confounded the contextual information is that bidders observe. To avoid clutter, we define these in configuration files.\n",
    "For the purposes of this introductory notebook, we will ignore some aspects such as repeated runs.\n",
    "\n",
    "We parse an existing file, detailing a second-price auction with truthful oracle bidders.\n",
    "We will look into the effects of increased competition on the auctioneer's revenue, social welfare and surplus.\n",
    "For this, we repeat simulated experiments with a single changed parameter over runs: 'num_participants_per_round'."
   ]
  },
  {
   "cell_type": "code",
   "execution_count": null,
   "id": "b84ac0a9",
   "metadata": {},
   "outputs": [],
   "source": [
    "import matplotlib.pyplot as plt\n",
    "import numpy as np\n",
    "from collections import defaultdict\n",
    "from main import parse_config, instantiate_agents, instantiate_auction\n",
    "from tqdm.notebook import tqdm"
   ]
  },
  {
   "cell_type": "code",
   "execution_count": null,
   "id": "a9b5f14c",
   "metadata": {},
   "outputs": [],
   "source": [
    "# Parse configuration file\n",
    "rng, config, agent_configs, agents2items, agents2item_values,\\\n",
    "num_runs, max_slots, embedding_size, embedding_var,\\\n",
    "obs_embedding_size = parse_config('../config/SP_Oracle.json')"
   ]
  },
  {
   "cell_type": "code",
   "execution_count": null,
   "id": "293153c6",
   "metadata": {},
   "outputs": [],
   "source": [
    "def run_repeated_auctions(num_participants_per_round):\n",
    "    # Placeholders for output\n",
    "    auction_revenue = []\n",
    "    social_welfare = []\n",
    "    social_surplus = []\n",
    "    \n",
    "    # Set the environmental parameter\n",
    "    config['num_participants_per_round'] = num_participants_per_round\n",
    "    \n",
    "    # Instantiate Agent and Auction objects\n",
    "    agents = instantiate_agents(rng, agent_configs, agents2item_values, agents2items)\n",
    "\n",
    "    # Instantiate Auction object\n",
    "    auction, num_iter, rounds_per_iter, output_dir =\\\n",
    "        instantiate_auction(rng,\n",
    "                            config,\n",
    "                            agents2items,\n",
    "                            agents2item_values,\n",
    "                            agents,\n",
    "                            max_slots,\n",
    "                            embedding_size,\n",
    "                            embedding_var,\n",
    "                            obs_embedding_size)\n",
    "\n",
    "    # Run repeated auctions\n",
    "    # This logic is encoded in the `simulation_run()` method in main.py\n",
    "    for i in tqdm(range(num_iter)):\n",
    "\n",
    "        # Simulate impression opportunities\n",
    "        for _ in range(rounds_per_iter):\n",
    "            auction.simulate_opportunity()\n",
    "\n",
    "        # Log 'Gross utility' or welfare\n",
    "        social_welfare.append(sum([agent.gross_utility for agent in auction.agents]))\n",
    "\n",
    "        # Log 'Net utility' or surplus\n",
    "        social_surplus.append(sum([agent.net_utility for agent in auction.agents]))\n",
    "        \n",
    "        # Update agents (does nothing in this example, as we have truthful oracles)\n",
    "        # Clear running metrics\n",
    "        for agent_id, agent in enumerate(auction.agents):\n",
    "            agent.update(iteration=i)\n",
    "            agent.clear_utility()\n",
    "            agent.clear_logs()\n",
    "\n",
    "        # Log revenue\n",
    "        auction_revenue.append(auction.revenue)\n",
    "        auction.clear_revenue()\n",
    "        \n",
    "    # Rescale metrics per auction round\n",
    "    auction_revenue = np.array(auction_revenue) / rounds_per_iter\n",
    "    social_welfare = np.array(social_welfare) / rounds_per_iter\n",
    "    social_surplus = np.array(social_surplus) / rounds_per_iter\n",
    "    \n",
    "    return auction_revenue, social_welfare, social_surplus"
   ]
  },
  {
   "cell_type": "code",
   "execution_count": null,
   "id": "73518a49",
   "metadata": {},
   "outputs": [],
   "source": [
    "num_participants_2_metrics = {\n",
    "    num_participants_per_round: run_repeated_auctions(num_participants_per_round=num_participants_per_round)\n",
    "    for num_participants_per_round in range(2,7)\n",
    "}"
   ]
  },
  {
   "cell_type": "code",
   "execution_count": null,
   "id": "014bff5e",
   "metadata": {},
   "outputs": [],
   "source": [
    "fontsize=16\n",
    "fig, axes = plt.subplots(1, 3, sharey='row', figsize=(15,4))\n",
    "\n",
    "for num_participants_per_round, (revenue, welfare, surplus) in num_participants_2_metrics.items():    \n",
    "    axes[0].plot(welfare, label=f'{num_participants_per_round}')\n",
    "    axes[1].plot(surplus, label=f'{num_participants_per_round}')\n",
    "    axes[2].plot(revenue, label=f'{num_participants_per_round}')\n",
    "\n",
    "\n",
    "axes[1].set_title('Effects of Competition in Second-Price Auctions with Oracle bidders', fontsize=fontsize+4)\n",
    "\n",
    "for i in range(3):\n",
    "    axes[i].set_xlabel('Iterations', fontsize=fontsize)\n",
    "    axes[i].set_xticks(list(range(0,len(revenue),2)))\n",
    "    axes[i].grid(True, 'major', 'y', ls='--', lw=.5, c='k', alpha=.3)\n",
    "\n",
    "axes[0].set_ylim(0.0, None)\n",
    "\n",
    "    \n",
    "axes[0].set_ylabel('Social Welfare', fontsize=fontsize)\n",
    "axes[1].set_ylabel('Social Surplus', fontsize=fontsize)\n",
    "axes[2].set_ylabel('Auction Revenue', fontsize=fontsize)\n",
    "\n",
    "handles, labels = axes[0].get_legend_handles_labels()\n",
    "legend = axes[2].legend(reversed(handles),\n",
    "                   reversed(labels),\n",
    "                   loc='upper left',\n",
    "                   bbox_to_anchor=(1.0, 1.0),\n",
    "                   fontsize=fontsize)\n",
    "legend.set_title('# Bidders', prop={'size': fontsize})\n",
    "fig.tight_layout()\n",
    "\n",
    "plt.show()"
   ]
  },
  {
   "cell_type": "markdown",
   "id": "4b555591",
   "metadata": {},
   "source": [
    "The leftmost plot shows social welfare (the sum of generated welfare over all participants in the auction).\n",
    "As we increase the number of participants in every auction round, the probability that the advertiser with the highest value ad is participating increases, and so does expected welfare.\n",
    "\n",
    "The middle plot shows social surplus.\n",
    "As the number of participants in the auction increases, there will be stronger competition, which drives up the second price. As a result, the surplus that bidders attain decreases.\n",
    "\n",
    "The rightmost plot shows revenue for the auctioneer.\n",
    "Because of the combined effect of (1) increasing welfare and (2) decreasing surplus, we see significant increases in auction revenue as the number of participants per auction round increases."
   ]
  }
 ],
 "metadata": {
  "language_info": {
   "name": "python",
   "pygments_lexer": "ipython3"
  },
  "kernelspec": {
   "name": "python3",
   "language": "python",
   "display_name": "Python 3 (ipykernel)"
  }
 },
 "nbformat": 4,
 "nbformat_minor": 5
}
